{
 "cells": [
  {
   "cell_type": "code",
   "execution_count": 1,
   "metadata": {
    "collapsed": true
   },
   "outputs": [],
   "source": [
    "import pandas\n",
    "pandas.set_option('display.max_colwidth', 300)"
   ]
  },
  {
   "cell_type": "code",
   "execution_count": 2,
   "metadata": {
    "collapsed": true
   },
   "outputs": [],
   "source": [
    "def scrubLine(line):\n",
    "    newline = line.replace('Mrs.', ' ')\n",
    "    newline = newline.replace('Mr.', ' ')\n",
    "    newline = newline.replace('Ms.', ' ')\n",
    "    newline = newline.replace(' m.', ' ')\n",
    "    newline = newline.replace('R.', ' ')\n",
    "    newline = newline.replace('W.', ' ')\n",
    "    newline = newline.replace('\"', '')\n",
    "    newline = newline.replace('“', '')\n",
    "    newline = newline.replace('”', '')\n",
    "    return newline\n",
    "\n",
    "\n",
    "with open(\"data/raw frankenstein.txt\", \"rt\") as fin:\n",
    "    with open(\"data/frankenstein.txt\", \"wt\") as fout:\n",
    "        for line in fin:\n",
    "            newline = scrubLine(line)\n",
    "            fout.write(newline)\n",
    "\n",
    "with open(\"data/raw pride.txt\", \"rt\") as fin:\n",
    "    with open(\"data/pride.txt\", \"wt\") as fout:\n",
    "        for line in fin:\n",
    "            newline = scrubLine(line)\n",
    "            fout.write(newline)\n"
   ]
  },
  {
   "cell_type": "code",
   "execution_count": 3,
   "metadata": {},
   "outputs": [
    {
     "name": "stdout",
     "output_type": "stream",
     "text": [
      "total frankenstein sentences:  3343\n"
     ]
    }
   ],
   "source": [
    "import re\n",
    "\n",
    "with open('data/frankenstein.txt') as f:\n",
    "    text = f.read()    \n",
    "    sentences = re.split(r' *[\\.\\!\\?][\\'\"\\)\\]]* *', text)\n",
    "    \n",
    "    for i in range(len(sentences)):\n",
    "        sentences[i] = sentences[i].replace(\"\\n\", \" \") + \".\"\n",
    "        \n",
    "print(\"total frankenstein sentences: \", len(sentences))"
   ]
  },
  {
   "cell_type": "code",
   "execution_count": 4,
   "metadata": {},
   "outputs": [
    {
     "name": "stdout",
     "output_type": "stream",
     "text": [
      "total Pride & Prejudice sentences:  5296\n"
     ]
    }
   ],
   "source": [
    "with open('data/pride.txt') as f:\n",
    "    text = f.read()    \n",
    "    pride_sentences = re.split(r' *[\\.\\!][\\'\"\\)\\]]* *', text)\n",
    "    \n",
    "    for i in range(len(pride_sentences)):\n",
    "        pride_sentences[i] = pride_sentences[i].replace(\"\\n\", \" \") + \".\"\n",
    "        \n",
    "print(\"total Pride & Prejudice sentences: \", len(pride_sentences))"
   ]
  },
  {
   "cell_type": "code",
   "execution_count": 5,
   "metadata": {},
   "outputs": [
    {
     "name": "stdout",
     "output_type": "stream",
     "text": [
      "Found 5296 usable sentences in Pride & Prejudice\n",
      "We have collected a total of 8639 questions for our Exquisite Corpse\n"
     ]
    }
   ],
   "source": [
    "previous_count = len(sentences)\n",
    "\n",
    "for line in pride_sentences:\n",
    "        sentences.append(line)\n",
    "        \n",
    "print(\"Found {} usable sentences in Pride & Prejudice\".format(len(sentences) - previous_count))\n",
    "print(\"We have collected a total of {} questions for our Exquisite Corpse\".format(len(sentences)))"
   ]
  },
  {
   "cell_type": "code",
   "execution_count": 6,
   "metadata": {},
   "outputs": [
    {
     "name": "stdout",
     "output_type": "stream",
     "text": [
      "['Frankenstein, or the Modern Prometheus  Letter 1  St.', 'Petersburgh, Dec.', '11th, 17--  TO   Saville, England  You will rejoice to hear that no disaster has accompanied the commencement of an enterprise which you have regarded with such evil forebodings.']\n",
      "['  She is so fond of   Forster, said she, it will be quite shocking to send her away.', 'As the trial had proceeded, her countenance had altered.', '  No--why should he? If it were not allowable for him to gain _my_ affections because I had no money, what occasion could there be for making love to a girl whom he did not care about, and who was equally poor?  But there seems an indelicacy in directing his attentions towards her so soon after this event.']\n"
     ]
    }
   ],
   "source": [
    "# LET'S SHUFFLE UP THE SENTENCES \n",
    "\n",
    "from random import shuffle\n",
    "\n",
    "print(sentences[0:3])\n",
    "shuffle(sentences)\n",
    "print(sentences[0:3])"
   ]
  },
  {
   "cell_type": "code",
   "execution_count": 7,
   "metadata": {
    "collapsed": true
   },
   "outputs": [],
   "source": [
    "# LET'S SAVE OUR RAW QUESTIONS AS TXT\n",
    "\n",
    "with open(\"data/sentences.txt\", \"wt\") as fout:\n",
    "    for i in range(len(sentences)):\n",
    "        fout.write(sentences[i])\n"
   ]
  },
  {
   "cell_type": "code",
   "execution_count": 8,
   "metadata": {
    "collapsed": true
   },
   "outputs": [],
   "source": [
    "# LET'S SAVE OUR RAW QUESTIONS IN THE MORE USABLE 'CSV' FORMAT\n",
    "import csv\n",
    "import itertools\n",
    "\n",
    "grouped = zip(*[sentences])\n",
    "\n",
    "with open('data/sentences.csv', 'w') as out_file:\n",
    "    writer = csv.writer(out_file)\n",
    "    writer.writerow(['line'])\n",
    "    writer.writerows(grouped)"
   ]
  },
  {
   "cell_type": "code",
   "execution_count": 9,
   "metadata": {},
   "outputs": [
    {
     "data": {
      "text/html": [
       "<div>\n",
       "<style scoped>\n",
       "    .dataframe tbody tr th:only-of-type {\n",
       "        vertical-align: middle;\n",
       "    }\n",
       "\n",
       "    .dataframe tbody tr th {\n",
       "        vertical-align: top;\n",
       "    }\n",
       "\n",
       "    .dataframe thead th {\n",
       "        text-align: right;\n",
       "    }\n",
       "</style>\n",
       "<table border=\"1\" class=\"dataframe\">\n",
       "  <thead>\n",
       "    <tr style=\"text-align: right;\">\n",
       "      <th></th>\n",
       "      <th>line</th>\n",
       "    </tr>\n",
       "  </thead>\n",
       "  <tbody>\n",
       "    <tr>\n",
       "      <th>0</th>\n",
       "      <td>She is so fond of   Forster, said she, it will be quite shocking to send her away.</td>\n",
       "    </tr>\n",
       "    <tr>\n",
       "      <th>1</th>\n",
       "      <td>As the trial had proceeded, her countenance had altered.</td>\n",
       "    </tr>\n",
       "    <tr>\n",
       "      <th>2</th>\n",
       "      <td>No--why should he? If it were not allowable for him to gain _my_ affections because I had no money, what occasion could there be for making love to a girl whom he did not care about, and who was equally poor?  But there seems an indelicacy in directing his attentions towards her so soon after ...</td>\n",
       "    </tr>\n",
       "    <tr>\n",
       "      <th>3</th>\n",
       "      <td>Do not involve yourself or endeavour to involve him in an affection which the want of fortune would make so very imprudent.</td>\n",
       "    </tr>\n",
       "    <tr>\n",
       "      <th>4</th>\n",
       "      <td>Memory brought madness with it, and when I thought of what had passed, a real insanity possessed me; sometimes I was furious and burnt with rage, sometimes low and despondent.</td>\n",
       "    </tr>\n",
       "    <tr>\n",
       "      <th>5</th>\n",
       "      <td>No one admitted to the privilege of hearing you can think anything wanting.</td>\n",
       "    </tr>\n",
       "    <tr>\n",
       "      <th>6</th>\n",
       "      <td>She blushed at the very idea, and thought it would be better to speak openly to her aunt than to run such a risk.</td>\n",
       "    </tr>\n",
       "    <tr>\n",
       "      <th>7</th>\n",
       "      <td>My dear sir, replied   Collins, I am particularly obliged to you for this friendly caution, and you may depend upon my not taking so material a step without her ladyship’s concurrence.</td>\n",
       "    </tr>\n",
       "    <tr>\n",
       "      <th>8</th>\n",
       "      <td>You may readily comprehend, she added, what my curiosity must be to know how a person unconnected with any of us, and (comparatively speaking) a stranger to our family, should have been amongst you at such a time.</td>\n",
       "    </tr>\n",
       "    <tr>\n",
       "      <th>9</th>\n",
       "      <td>I will not trust myself on the subject, replied Wickham; I can hardly be just to hi   Elizabeth was again deep in thought, and after a time exclaimed, To treat in such a manner the godson, the friend, the favourite of his father.</td>\n",
       "    </tr>\n",
       "  </tbody>\n",
       "</table>\n",
       "</div>"
      ],
      "text/plain": [
       "                                                                                                                                                                                                                                                                                                          line\n",
       "0                                                                                                                                                                                                                           She is so fond of   Forster, said she, it will be quite shocking to send her away.\n",
       "1                                                                                                                                                                                                                                                     As the trial had proceeded, her countenance had altered.\n",
       "2    No--why should he? If it were not allowable for him to gain _my_ affections because I had no money, what occasion could there be for making love to a girl whom he did not care about, and who was equally poor?  But there seems an indelicacy in directing his attentions towards her so soon after ...\n",
       "3                                                                                                                                                                                  Do not involve yourself or endeavour to involve him in an affection which the want of fortune would make so very imprudent.\n",
       "4                                                                                                                              Memory brought madness with it, and when I thought of what had passed, a real insanity possessed me; sometimes I was furious and burnt with rage, sometimes low and despondent.\n",
       "5                                                                                                                                                                                                                                  No one admitted to the privilege of hearing you can think anything wanting.\n",
       "6                                                                                                                                                                                            She blushed at the very idea, and thought it would be better to speak openly to her aunt than to run such a risk.\n",
       "7                                                                                                                     My dear sir, replied   Collins, I am particularly obliged to you for this friendly caution, and you may depend upon my not taking so material a step without her ladyship’s concurrence.\n",
       "8                                                                                        You may readily comprehend, she added, what my curiosity must be to know how a person unconnected with any of us, and (comparatively speaking) a stranger to our family, should have been amongst you at such a time.\n",
       "9                                                                        I will not trust myself on the subject, replied Wickham; I can hardly be just to hi   Elizabeth was again deep in thought, and after a time exclaimed, To treat in such a manner the godson, the friend, the favourite of his father."
      ]
     },
     "execution_count": 9,
     "metadata": {},
     "output_type": "execute_result"
    }
   ],
   "source": [
    "# LET'S READ THE CSV FILE INTO PANDAS AND SEE THE FIRST 10 ENTRIES...\n",
    "lines = pandas.read_csv('data/sentences.csv', encoding='utf-8')\n",
    "lines[0:10]"
   ]
  }
 ],
 "metadata": {
  "kernelspec": {
   "display_name": "Python 3",
   "language": "python",
   "name": "python3"
  },
  "language_info": {
   "codemirror_mode": {
    "name": "ipython",
    "version": 3
   },
   "file_extension": ".py",
   "mimetype": "text/x-python",
   "name": "python",
   "nbconvert_exporter": "python",
   "pygments_lexer": "ipython3",
   "version": "3.5.2"
  }
 },
 "nbformat": 4,
 "nbformat_minor": 2
}
