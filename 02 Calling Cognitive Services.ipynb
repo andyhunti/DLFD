{
 "cells": [
  {
   "cell_type": "markdown",
   "metadata": {},
   "source": [
    "# MICROSOFT COGNITIVE SERVICES\n",
    "\n",
    "Here, we will look at calling out to Microsoft's cognitive services from our Jupyter Notebook and having our cloud based AI solutions provide us results.\n"
   ]
  },
  {
   "cell_type": "markdown",
   "metadata": {},
   "source": [
    "## Computer Vision Example\n",
    "\n",
    "Let's give the service a URL to an image we find online and ask it to give us a description of it."
   ]
  }
 ],
 "metadata": {
  "kernelspec": {
   "display_name": "Python 3",
   "language": "python",
   "name": "python3"
  },
  "language_info": {
   "codemirror_mode": {
    "name": "ipython",
    "version": 3
   },
   "file_extension": ".py",
   "mimetype": "text/x-python",
   "name": "python",
   "nbconvert_exporter": "python",
   "pygments_lexer": "ipython3",
   "version": "3.5.2"
  }
 },
 "nbformat": 4,
 "nbformat_minor": 2
}
