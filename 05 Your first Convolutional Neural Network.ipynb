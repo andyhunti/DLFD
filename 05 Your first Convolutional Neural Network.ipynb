{
 "cells": [
  {
   "cell_type": "code",
   "execution_count": 1,
   "metadata": {},
   "outputs": [
    {
     "name": "stderr",
     "output_type": "stream",
     "text": [
      "Using Theano backend.\n"
     ]
    }
   ],
   "source": [
    "import numpy as np\n",
    "\n",
    "import keras\n"
   ]
  },
  {
   "cell_type": "code",
   "execution_count": 2,
   "metadata": {
    "collapsed": true
   },
   "outputs": [],
   "source": [
    "from keras.datasets import cifar10\n",
    "\n",
    "(pics, labels), _ = cifar10.load_data()"
   ]
  },
  {
   "cell_type": "markdown",
   "metadata": {},
   "source": [
    "## LET'S GET THE IMAGES READY"
   ]
  },
  {
   "cell_type": "code",
   "execution_count": 4,
   "metadata": {},
   "outputs": [
    {
     "name": "stdout",
     "output_type": "stream",
     "text": [
      "(50000, 32, 32, 3)\n"
     ]
    }
   ],
   "source": [
    "print(pics.shape)"
   ]
  },
  {
   "cell_type": "code",
   "execution_count": 6,
   "metadata": {},
   "outputs": [
    {
     "data": {
      "text/plain": [
       "<matplotlib.image.AxesImage at 0x12c0b5898>"
      ]
     },
     "execution_count": 6,
     "metadata": {},
     "output_type": "execute_result"
    },
    {
     "data": {
      "image/png": "[encoded data removed]",
      "text/plain": [
       "<matplotlib.figure.Figure at 0x101db83c8>"
      ]
     },
     "metadata": {},
     "output_type": "display_data"
    }
   ],
   "source": [
    "from matplotlib import pyplot as plt\n",
    "%matplotlib inline\n",
    "\n",
    "plt.imshow(pics[0])"
   ]
  },
  {
   "cell_type": "code",
   "execution_count": 7,
   "metadata": {},
   "outputs": [
    {
     "data": {
      "text/plain": [
       "array([[[ 59,  62,  63],\n",
       "        [ 43,  46,  45],\n",
       "        [ 50,  48,  43],\n",
       "        ..., \n",
       "        [158, 132, 108],\n",
       "        [152, 125, 102],\n",
       "        [148, 124, 103]],\n",
       "\n",
       "       [[ 16,  20,  20],\n",
       "        [  0,   0,   0],\n",
       "        [ 18,   8,   0],\n",
       "        ..., \n",
       "        [123,  88,  55],\n",
       "        [119,  83,  50],\n",
       "        [122,  87,  57]],\n",
       "\n",
       "       [[ 25,  24,  21],\n",
       "        [ 16,   7,   0],\n",
       "        [ 49,  27,   8],\n",
       "        ..., \n",
       "        [118,  84,  50],\n",
       "        [120,  84,  50],\n",
       "        [109,  73,  42]],\n",
       "\n",
       "       ..., \n",
       "       [[208, 170,  96],\n",
       "        [201, 153,  34],\n",
       "        [198, 161,  26],\n",
       "        ..., \n",
       "        [160, 133,  70],\n",
       "        [ 56,  31,   7],\n",
       "        [ 53,  34,  20]],\n",
       "\n",
       "       [[180, 139,  96],\n",
       "        [173, 123,  42],\n",
       "        [186, 144,  30],\n",
       "        ..., \n",
       "        [184, 148,  94],\n",
       "        [ 97,  62,  34],\n",
       "        [ 83,  53,  34]],\n",
       "\n",
       "       [[177, 144, 116],\n",
       "        [168, 129,  94],\n",
       "        [179, 142,  87],\n",
       "        ..., \n",
       "        [216, 184, 140],\n",
       "        [151, 118,  84],\n",
       "        [123,  92,  72]]], dtype=uint8)"
      ]
     },
     "execution_count": 7,
     "metadata": {},
     "output_type": "execute_result"
    }
   ],
   "source": [
    "pics[0]"
   ]
  },
  {
   "cell_type": "code",
   "execution_count": 8,
   "metadata": {},
   "outputs": [
    {
     "data": {
      "text/plain": [
       "(50000, 32, 32, 3)"
      ]
     },
     "execution_count": 8,
     "metadata": {},
     "output_type": "execute_result"
    }
   ],
   "source": [
    "pics = pics.astype('float32')\n",
    "pics /= 255\n",
    "pics.shape"
   ]
  },
  {
   "cell_type": "code",
   "execution_count": 9,
   "metadata": {},
   "outputs": [
    {
     "data": {
      "text/plain": [
       "array([[[ 0.23137255,  0.24313726,  0.24705882],\n",
       "        [ 0.16862746,  0.18039216,  0.17647059],\n",
       "        [ 0.19607843,  0.1882353 ,  0.16862746],\n",
       "        ..., \n",
       "        [ 0.61960787,  0.51764709,  0.42352942],\n",
       "        [ 0.59607846,  0.49019608,  0.40000001],\n",
       "        [ 0.58039218,  0.48627451,  0.40392157]],\n",
       "\n",
       "       [[ 0.0627451 ,  0.07843138,  0.07843138],\n",
       "        [ 0.        ,  0.        ,  0.        ],\n",
       "        [ 0.07058824,  0.03137255,  0.        ],\n",
       "        ..., \n",
       "        [ 0.48235294,  0.34509805,  0.21568628],\n",
       "        [ 0.46666667,  0.32549021,  0.19607843],\n",
       "        [ 0.47843137,  0.34117648,  0.22352941]],\n",
       "\n",
       "       [[ 0.09803922,  0.09411765,  0.08235294],\n",
       "        [ 0.0627451 ,  0.02745098,  0.        ],\n",
       "        [ 0.19215687,  0.10588235,  0.03137255],\n",
       "        ..., \n",
       "        [ 0.4627451 ,  0.32941177,  0.19607843],\n",
       "        [ 0.47058824,  0.32941177,  0.19607843],\n",
       "        [ 0.42745098,  0.28627452,  0.16470589]],\n",
       "\n",
       "       ..., \n",
       "       [[ 0.81568629,  0.66666669,  0.3764706 ],\n",
       "        [ 0.78823531,  0.60000002,  0.13333334],\n",
       "        [ 0.7764706 ,  0.63137257,  0.10196079],\n",
       "        ..., \n",
       "        [ 0.627451  ,  0.52156866,  0.27450982],\n",
       "        [ 0.21960784,  0.12156863,  0.02745098],\n",
       "        [ 0.20784314,  0.13333334,  0.07843138]],\n",
       "\n",
       "       [[ 0.70588237,  0.54509807,  0.3764706 ],\n",
       "        [ 0.67843139,  0.48235294,  0.16470589],\n",
       "        [ 0.72941178,  0.56470591,  0.11764706],\n",
       "        ..., \n",
       "        [ 0.72156864,  0.58039218,  0.36862746],\n",
       "        [ 0.38039216,  0.24313726,  0.13333334],\n",
       "        [ 0.32549021,  0.20784314,  0.13333334]],\n",
       "\n",
       "       [[ 0.69411767,  0.56470591,  0.45490196],\n",
       "        [ 0.65882355,  0.50588238,  0.36862746],\n",
       "        [ 0.7019608 ,  0.55686277,  0.34117648],\n",
       "        ..., \n",
       "        [ 0.84705883,  0.72156864,  0.54901963],\n",
       "        [ 0.59215689,  0.4627451 ,  0.32941177],\n",
       "        [ 0.48235294,  0.36078432,  0.28235295]]], dtype=float32)"
      ]
     },
     "execution_count": 9,
     "metadata": {},
     "output_type": "execute_result"
    }
   ],
   "source": [
    "pics[0]"
   ]
  },
  {
   "cell_type": "markdown",
   "metadata": {},
   "source": [
    "## NOW LET'S GET OUR LABELS PREPARED"
   ]
  },
  {
   "cell_type": "code",
   "execution_count": 12,
   "metadata": {},
   "outputs": [
    {
     "name": "stdout",
     "output_type": "stream",
     "text": [
      "[6]\n"
     ]
    }
   ],
   "source": [
    "print(labels[0])"
   ]
  },
  {
   "cell_type": "markdown",
   "metadata": {},
   "source": [
    "The CIFAR database has labels for 10 different categories. Let's create a lookup so that we can match the labels with more human readable text."
   ]
  },
  {
   "cell_type": "code",
   "execution_count": 15,
   "metadata": {},
   "outputs": [
    {
     "name": "stdout",
     "output_type": "stream",
     "text": [
      "frog\n"
     ]
    }
   ],
   "source": [
    "class_names = ['airplane','automobile','bird','cat','deer',\n",
    "               'dog','frog','horse','ship','truck']\n",
    "\n",
    "number_of_classes = len(class_names)\n",
    "\n",
    "word_label = class_names[ int(labels[0]) ]\n",
    "print(word_label)"
   ]
  },
  {
   "cell_type": "markdown",
   "metadata": {},
   "source": [
    "Now that we have a way of getting our labels into human readable format, let's one_hot_enocode these labels so that they can be used by the A.I. for training."
   ]
  },
  {
   "cell_type": "code",
   "execution_count": 17,
   "metadata": {},
   "outputs": [
    {
     "name": "stdout",
     "output_type": "stream",
     "text": [
      "[ 0.  0.  0.  0.  0.  0.  1.  0.  0.  0.]\n"
     ]
    }
   ],
   "source": [
    "labels = keras.utils.to_categorical(labels, number_of_classes)\n",
    "print(labels[0])"
   ]
  },
  {
   "cell_type": "code",
   "execution_count": 18,
   "metadata": {},
   "outputs": [
    {
     "name": "stdout",
     "output_type": "stream",
     "text": [
      "frog\n"
     ]
    }
   ],
   "source": [
    "def labelToText(_label):\n",
    "    print(class_names[np.argmax(_label)])\n",
    "    \n",
    "labelToText(labels[0])"
   ]
  },
  {
   "cell_type": "markdown",
   "metadata": {},
   "source": [
    "# BUILDING OUR MODEL"
   ]
  },
  {
   "cell_type": "code",
   "execution_count": 19,
   "metadata": {
    "collapsed": true
   },
   "outputs": [],
   "source": [
    "from keras.models import Sequential\n",
    "from keras.layers import Conv2D, Activation, Dense, Flatten\n",
    "# adding some additional features...\n",
    "from keras.layers import MaxPooling2D, Dropout\n",
    "\n",
    "# THIS TELLS KERAS WE WILL BE ADDING LAYERS IN ORDER\n",
    "model = Sequential()\n",
    "\n",
    "# OUR FIRST COLLECTION OF LAYERS\n",
    "model.add( Conv2D(48, (3, 3), padding='same', input_shape=(32, 32, 3), activation='relu' ))\n",
    "model.add( Conv2D(48, (3,3), activation='relu' ))\n",
    "model.add( MaxPooling2D( pool_size=(2,2)))\n",
    "model.add( Dropout(0.25))\n",
    "\n",
    "# SECOND LAYER, SAME AS FIRST EXCEPT FOR TWICE THE FEATURE MAPS\n",
    "model.add( Conv2D(96, (3, 3), padding='same', activation='relu'))\n",
    "model.add( Conv2D(96, (3,3), activation='relu' ))\n",
    "model.add( MaxPooling2D( pool_size=(2,2)))\n",
    "model.add( Dropout(0.25))\n",
    "\n",
    "# ONE MORE TIME, DOUBLED AGAIN...\n",
    "model.add( Conv2D(192, (3, 3), padding='same', activation='relu'))\n",
    "model.add( Conv2D(192, (3,3), activation='relu' ))\n",
    "model.add( MaxPooling2D( pool_size=(2,2)))\n",
    "model.add( Dropout(0.25))\n",
    "\n",
    "# NOW LET'S START FORCING THE MODEL TO CONVERGE ON 1 of !0 CLASS NAMES\n",
    "model.add(Flatten())\n",
    "model.add(Dense(512, activation='relu'))\n",
    "model.add(Dropout(0.5))\n",
    "model.add(Dense(256, activation='relu'))\n",
    "model.add(Dropout(0.5))\n",
    "model.add(Dense(number_of_classes, activation='softmax'))\n",
    "\n",
    "# OUR MODEL IS FINISHED. LET'S TELL KERAS TO COMPILE IT\n",
    "model.compile( optimizer='adam', loss='categorical_crossentropy', metrics=['accuracy'])\n"
   ]
  },
  {
   "cell_type": "code",
   "execution_count": 20,
   "metadata": {
    "scrolled": true
   },
   "outputs": [
    {
     "name": "stdout",
     "output_type": "stream",
     "text": [
      "Train on 45000 samples, validate on 5000 samples\n",
      "Epoch 1/1\n",
      "45000/45000 [==============================] - 280s - loss: 1.8634 - acc: 0.2930 - val_loss: 1.4361 - val_acc: 0.4740\n"
     ]
    }
   ],
   "source": [
    "batch_size = 128\n",
    "\n",
    "def TrainingLoop(number_of_epochs):\n",
    "    model.fit(pics, labels, \\\n",
    "              batch_size=batch_size, \\\n",
    "              epochs=number_of_epochs, \\\n",
    "              verbose=1, \\\n",
    "              validation_split=.1 )\n",
    "    \n",
    "TrainingLoop(1)"
   ]
  },
  {
   "cell_type": "code",
   "execution_count": 31,
   "metadata": {},
   "outputs": [
    {
     "name": "stdout",
     "output_type": "stream",
     "text": [
      "Train on 45000 samples, validate on 5000 samples\n",
      "Epoch 1/2\n",
      "45000/45000 [==============================] - 284s - loss: 1.3955 - acc: 0.4903 - val_loss: 1.1895 - val_acc: 0.5650\n",
      "Epoch 2/2\n",
      "45000/45000 [==============================] - 278s - loss: 1.1648 - acc: 0.5815 - val_loss: 0.9823 - val_acc: 0.6470\n"
     ]
    }
   ],
   "source": [
    "TrainingLoop(2)"
   ]
  },
  {
   "cell_type": "markdown",
   "metadata": {},
   "source": [
    "# TESTING OUR MODEL"
   ]
  },
  {
   "cell_type": "code",
   "execution_count": 53,
   "metadata": {},
   "outputs": [
    {
     "data": {
      "text/plain": [
       "(32, 32, 3)"
      ]
     },
     "execution_count": 53,
     "metadata": {},
     "output_type": "execute_result"
    }
   ],
   "source": [
    "test_image = pics[40]\n",
    "test_image.shape"
   ]
  },
  {
   "cell_type": "code",
   "execution_count": 54,
   "metadata": {
    "scrolled": true
   },
   "outputs": [
    {
     "data": {
      "text/plain": [
       "<matplotlib.image.AxesImage at 0x127c95cc0>"
      ]
     },
     "execution_count": 54,
     "metadata": {},
     "output_type": "execute_result"
    },
    {
     "data": {
      "image/png": "[encoded data removed]",
      "text/plain": [
       "<matplotlib.figure.Figure at 0x127d5c6d8>"
      ]
     },
     "metadata": {},
     "output_type": "display_data"
    }
   ],
   "source": [
    "plt.imshow(test_image)"
   ]
  },
  {
   "cell_type": "code",
   "execution_count": 55,
   "metadata": {},
   "outputs": [
    {
     "data": {
      "text/plain": [
       "(1, 32, 32, 3)"
      ]
     },
     "execution_count": 55,
     "metadata": {},
     "output_type": "execute_result"
    }
   ],
   "source": [
    "test_image_batch = np.expand_dims(test_image, axis=0)\n",
    "test_image_batch.shape"
   ]
  },
  {
   "cell_type": "code",
   "execution_count": 56,
   "metadata": {
    "scrolled": true
   },
   "outputs": [
    {
     "name": "stdout",
     "output_type": "stream",
     "text": [
      "1/1 [==============================] - 0s\n",
      "[[ 0.0041347   0.00123332  0.05405406  0.33222342  0.05245265  0.44477189\n",
      "   0.03322429  0.07280699  0.00196932  0.00312937]]\n"
     ]
    }
   ],
   "source": [
    "result = model.predict(test_image_batch, batch_size=1, verbose=1)\n",
    "print(result)"
   ]
  },
  {
   "cell_type": "code",
   "execution_count": 57,
   "metadata": {
    "scrolled": true
   },
   "outputs": [
    {
     "name": "stdout",
     "output_type": "stream",
     "text": [
      "dog\n"
     ]
    }
   ],
   "source": [
    "print( class_names[np.argmax(result, axis=1)[0]] )"
   ]
  },
  {
   "cell_type": "markdown",
   "metadata": {},
   "source": [
    "# WE NEED A LOT MORE TRAINING...\n",
    "\n",
    "But our computers are a bit too slow. Let's figure out how to load 'pre-trained weights' into our model.\n",
    "\n",
    "First, let's see what I did previously (on a much faster computer with external GPU) after I loaded this Jupyter Notebook and ran TrainingLoop(10). Once I felt the A.I. model had increased in accuracy to an acceptable degree, I saved the trained weights like this:\n"
   ]
  },
  {
   "cell_type": "code",
   "execution_count": 58,
   "metadata": {
    "collapsed": true
   },
   "outputs": [],
   "source": [
    "model.save_weights('cifar_cnn_weights.h5')"
   ]
  },
  {
   "cell_type": "markdown",
   "metadata": {},
   "source": [
    "Assuming you have code for instantiating your model, you can then load the weights you saved from one computer running this notebook, into a model with the same architecture on a different computer, by sharing the weights file and doing this:"
   ]
  },
  {
   "cell_type": "code",
   "execution_count": 60,
   "metadata": {
    "collapsed": true
   },
   "outputs": [],
   "source": [
    "model.load_weights('cifar_cnn_weights.h5')"
   ]
  },
  {
   "cell_type": "markdown",
   "metadata": {},
   "source": [
    "We will use this for the remainder of the A.I. models today, as we'll be getting into some more awesome, but computationally expensive, projects."
   ]
  }
 ],
 "metadata": {
  "kernelspec": {
   "display_name": "Python 3",
   "language": "python",
   "name": "python3"
  },
  "language_info": {
   "codemirror_mode": {
    "name": "ipython",
    "version": 3
   },
   "file_extension": ".py",
   "mimetype": "text/x-python",
   "name": "python",
   "nbconvert_exporter": "python",
   "pygments_lexer": "ipython3",
   "version": "3.5.2"
  }
 },
 "nbformat": 4,
 "nbformat_minor": 2
}
