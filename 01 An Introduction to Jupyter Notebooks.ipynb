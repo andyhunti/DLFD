{
 "cells": [
  {
   "cell_type": "markdown",
   "metadata": {},
   "source": [
    "# An Introduction to Jupyter Notebooks\n",
    "\n",
    "We will be using Jupyter Notebooks for our workshop. We will create and edit notebooks from https://notebooks.azure.com, so no additional software will be required during this class. If you have a browser and an account on Azure Notebooks, you're ready to go.\n",
    "\n",
    "A notebook allows us to combine interactive code blocks and rich text elements and media in a single, online document. Because notebooks are both machine readable and human readable, they have quickly become a favorite form of sharing scientific, financial, statistical or computational reports. \n",
    "\n",
    "For example, http://nbviewer.jupyter.org/github/brianckeegan/Bechdel/blob/master/Bechdel_test.ipynb is a notebook for addressing *The Need for Openness in Data Journalism*. You can see how the author integrates the primary text message with code processing the data to justify the author's conclusions.\n"
   ]
  },
  {
   "cell_type": "markdown",
   "metadata": {},
   "source": [
    "Double click on this line to see it in markup. You can *make text italic* or **bold** just as you do in markup. When you are done editing, you press CNTRL-ENTER."
   ]
  },
  {
   "cell_type": "code",
   "execution_count": null,
   "metadata": {},
   "outputs": [],
   "source": []
  },
  {
   "cell_type": "markdown",
   "metadata": {},
   "source": [
    "# CONCLUSION\n",
    "\n",
    "Congratulations! You've setup your first notebook and got up to speed writing Python. We also looked at loading images and using matplotlib and numpy to perform various operations and see what our images are made up. In our next Notebook, we will jump building our first neural network.\n"
   ]
  }
 ],
 "metadata": {
  "celltoolbar": "Raw Cell Format",
  "kernelspec": {
   "display_name": "Python 3",
   "language": "python",
   "name": "python3"
  },
  "language_info": {
   "codemirror_mode": {
    "name": "ipython",
    "version": 3
   },
   "file_extension": ".py",
   "mimetype": "text/x-python",
   "name": "python",
   "nbconvert_exporter": "python",
   "pygments_lexer": "ipython3",
   "version": "3.5.2"
  }
 },
 "nbformat": 4,
 "nbformat_minor": 2
}
